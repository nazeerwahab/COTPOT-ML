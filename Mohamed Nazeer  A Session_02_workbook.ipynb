{
 "cells": [
  {
   "cell_type": "code",
   "execution_count": 1,
   "metadata": {},
   "outputs": [],
   "source": [
    "##WORKOUT2 ##NAZEER"
   ]
  },
  {
   "cell_type": "markdown",
   "metadata": {
    "id": "svmbvUd5QT-X"
   },
   "source": [
    "y = w1 * x1 + w2 * x2 + Bias  \n",
    "\n",
    "\n",
    "w1 = 1\n",
    "\n",
    "w2 = 1\n",
    "\n",
    "b = -1 \n",
    "\n",
    "1*1 + 1* 1 -1 = 1\n",
    "1*-1 + 1* 1 -1 = -1\n",
    "1*1 + 1*-1 -1 = -1\n",
    "1*-1 + 1*-1 -1 = -3 "
   ]
  },
  {
   "cell_type": "markdown",
   "metadata": {
    "id": "S6k_yPfUTN7J"
   },
   "source": [
    "# Thershold\n",
    "\n",
    "y > 0 = 1\n",
    "\n",
    "y = 0 = 0\n",
    "\n",
    "y < 0 = -1\n",
    "\n"
   ]
  },
  {
   "cell_type": "markdown",
   "metadata": {
    "id": "3QMHNq0MyCVx"
   },
   "source": [
    "| X1  | X2  | Y = output | W1 | W2 | B |\n",
    "| --- | --- | ------ | -- | -- | - |\n",
    "| 1   | 1   | 1      |    |    |   |\n",
    "| 1   | \\-1 | \\-1    |    |    |   |\n",
    "| \\-1 | 1   | \\-1    |    |    |   |\n",
    "| \\-1 | \\-1 | \\-1    |    |    |"
   ]
  },
  {
   "cell_type": "markdown",
   "metadata": {
    "id": "wM0JD_Z-3K6f"
   },
   "source": [
    "## *y = w1x1 + w2x2 + b*\n",
    "\n",
    "*w1(new) = w1(old) + x1y*\n",
    "\n",
    "*w2(new) = w2(old) + x2y* <br>\n",
    "\n",
    "*b(new)  = b(old) + y*"
   ]
  },
  {
   "cell_type": "markdown",
   "metadata": {
    "id": "RyiZyHj14v-G"
   },
   "source": [
    "AND\n",
    "\n",
    "1 = 0*1 + 0*1 + 0 = 0 \n",
    "\n",
    "w1 = 0 + 1* 1\n",
    "\n",
    "w2 = 0 + 1* 1\n",
    "\n",
    "b = 0 + 1\n",
    "\n",
    "OR\n",
    "\n",
    "1 = 0*1 + 0*1 + 0 = 0 \n",
    "\n",
    "w1 = 0 + 1* 1\n",
    "\n",
    "w2 = 0 + 1* 1\n",
    "\n",
    "b = 0 + 1\n",
    "\n",
    "| X1  | X2  | output | W1 | W2 | B |\n",
    "| --- | --- | ------ | -- | -- | - |\n",
    "| 1   | 1   | 1      | 1  | 1  | 1 |\n",
    "| 1   | \\-1 | \\-1    |    |    |   |\n",
    "| \\-1 | 1   | \\-1    |    |    |   |\n",
    "| \\-1 | \\-1 | \\-1    |    |    |   | "
   ]
  },
  {
   "cell_type": "markdown",
   "metadata": {
    "id": "BGLVB3UG6tyJ"
   },
   "source": [
    "*y = w1x1 + w2x2 + b*\n",
    "\n",
    "*w1(new) = w1(old) + x1y*\n",
    "\n",
    "*w2(new) = w2(old) + x2y* <br>\n",
    "\n",
    "*b(new)  = b(old) + y*\n",
    "\n",
    "\n",
    "\n",
    "-1 = 1*1 + 1*-1 + 1 = 1\n",
    "\n",
    "w1 = 1 + -1* 1\n",
    "\n",
    "w2 = 1 + -1* -1\n",
    "\n",
    "b = 1 + -1\n",
    "\n",
    "| X1  | X2  | output | W1 | W2 | B |\n",
    "| --- | --- | ------ | -- | -- | - |\n",
    "| 1   | 1   | 1      | 1  | 1  | 1 |\n",
    "| 1   | \\-1 | \\-1    | 0  | 2  | 0 |\n",
    "| \\-1 | 1   | \\-1    |    |    |   |\n",
    "| \\-1 | \\-1 | \\-1    |    |    |   | "
   ]
  },
  {
   "cell_type": "markdown",
   "metadata": {
    "id": "RlRXPjtZVams"
   },
   "source": [
    "y = w1x1 + w2x2 + b*\n",
    "\n",
    "\n",
    "*w1(new) = w1(old) + x1y*\n",
    "\n",
    "*w2(new) = w2(old) + x2y* <br>\n",
    "\n",
    "*b(new)  = b(old) + y*\n",
    "\n",
    "\n",
    "-1 = -1 0  + 2 1 + 0 = 2\n",
    "\n",
    "w1 = 0 + -1* -1\n",
    "\n",
    "w2 = 2 + -1* 1\n",
    "\n",
    "b = 0 + -1\n",
    "\n",
    "| X1  | X2  | output | W1 | W2 | B |\n",
    "| --- | --- | ------ | -- | -- | - |\n",
    "| 1   | 1   | 1      | 1  | 1  | 1 |\n",
    "| 1   | \\-1 | \\-1    | 0  | 2  | 0 |\n",
    "| \\-1 | 1   | \\-1    | 1  | 1  | -1|\n",
    "| \\-1 | \\-1 | \\-1    |    |    |   | "
   ]
  },
  {
   "cell_type": "markdown",
   "metadata": {
    "id": "xl5Bl--8OjPh"
   },
   "source": [
    "y = w1x1 + w2x2 + b\n",
    "\n",
    "\n",
    "*w1(new) = w1(old) + x1y*\n",
    "\n",
    "*w2(new) = w2(old) + x2y* <br>\n",
    "\n",
    "*b(new)  = b(old) + y*\n",
    "\n",
    "\n",
    "-1 = -1 1  + -1 1 + -1 = -3 < 0 so take it as -1\n",
    "\n",
    "no update to weight or bias *needed*\n",
    "\n",
    "| X1  | X2  | output | W1 | W2 | B |\n",
    "| --- | --- | ------ | -- | -- | - |\n",
    "| 1   | 1   | 1      | 1  | 1  | 1 |\n",
    "| 1   | \\-1 | \\-1    | 0  | 2  | 0 |\n",
    "| \\-1 | 1   | \\-1    | 1  | 1  | -1|\n",
    "| \\-1 | \\-1 | \\-1    |  1 | 1  | -1| "
   ]
  },
  {
   "cell_type": "markdown",
   "metadata": {
    "id": "E1zTpt5gO-yM"
   },
   "source": [
    "#Testing for all condisions\n",
    "\n",
    "with weight 1, 1 and bias -1 \n",
    "\n",
    "y = w1x1 + w2x2 + b\n",
    "\n",
    "1  = 1*1 + 1*1 + -1 = 1\n",
    "\n",
    "-1 = 1*1 + 1*-1 + -1 = -1\n",
    "\n",
    "-1 = -1*1 + 1*1 + -1 = -1 \n",
    "\n",
    "-1 = 1*-1 + 1*-1 + -1 = -3 < 0 = -1"
   ]
  },
  {
   "cell_type": "markdown",
   "metadata": {
    "id": "xOJ18tfDLecV"
   },
   "source": [
    "## Workout\n",
    "\n",
    "| X1  | X2  | output | W1 | W2 | B |\n",
    "| --- | --- | ------ | -- | -- | - |\n",
    "| 1   | 0  | 1    |  0 | 0  | 0 |\n",
    "| 0   | 1  | 1    |   |   |  |\n",
    "| 1   | 1  | 1    |   |   |  |\n",
    "| 0   | 0  | 0    |   |  |   | "
   ]
  },
  {
   "cell_type": "markdown",
   "metadata": {
    "id": "VnO5XZ_Yasw7"
   },
   "source": [
    "Hi Student, sorry again , i made a mistkae . OR logic should have -1 instead of zeros, because with zeros you lose the ability to decrase the weight, only you can increase, (you ll realize when you manually do it), so for this excercise we need to have -1 instead of zeros.\n",
    "\n",
    "| X1  | X2  | output | W1 | W2 | B |\n",
    "| --- | --- | ------ | -- | -- | - |\n",
    "| 1   | -1 | 1    |  0 | 0  | 0 |\n",
    "| -1   | 1  | 1    |   |   |  |\n",
    "| 1   | 1  | 1    |   |   |  |\n",
    "| -1  | -1  | -1    |   |  |   | \n",
    "\n",
    "\n",
    "y = 0*(-1)+0(1)+0 = 0\n",
    "\n",
    "w1 = 0+(-1)*1 = -1\n",
    "\n",
    "w2 = 0+1(1) = 1\n",
    "\n",
    "b = 0+1 = 1\n",
    "\n",
    "\n",
    "| X1  | X2  | output | W1 | W2 | B |\n",
    "| --- | --- | ------ | -- | -- | - |\n",
    "| 1   | -1 | 1    |  0 | 0  | 0 |\n",
    "| -1   | 1  | 1    | -1  |  1 | 1 |\n",
    "| 1   | 1  | 1    |   |   |  |\n",
    "| -1  | -1  | -1    |   |  |   |\n",
    "\n",
    "\n",
    "y = (-1)(1)+(1)(1)+1 = 1\n",
    "\n",
    "w1 = (-1)+(1)1 = -1+1 = 0\n",
    "\n",
    "w2 = (1)+1(1) = 1+1 = 2\n",
    "\n",
    "b = 1+1 = 2\n",
    "\n",
    "\n",
    "| X1  | X2  | output | W1 | W2 | B |\n",
    "| --- | --- | ------ | -- | -- | - |\n",
    "| 1   | -1 | 1    |  0 | 0  | 0 |\n",
    "| -1   | 1  | 1    | -1  |  1 | 1 |\n",
    "| 1   | 1  | 1    |  0 | 2  | 2 |\n",
    "| -1  | -1  | -1    |   |  |   |\n",
    "\n",
    "\n",
    "y = 0*(-1)+2*(-1)+2 = 0+2-2= 0\n",
    "\n",
    "w1 = 0+(-1)(1) = -1\n",
    "\n",
    "w2 = 2+(-1)(-1) = 2+1 = 3\n",
    "\n",
    "b = 2+(-1) = 1\n",
    "\n",
    "\n",
    "| X1  | X2  | output | W1 | W2 | B |\n",
    "| --- | --- | ------ | -- | -- | - |\n",
    "| 1   | -1 | 1    |  0 | 0  | 0 |\n",
    "| -1   | 1  | 1    | -1  |  1 | 1 |\n",
    "| 1   | 1  | 1    |  0 | 2  | 2 |\n",
    "| -1  | -1  | -1    | -1 |3  | 1  |\n"
   ]
  }
 ],
 "metadata": {
  "colab": {
   "collapsed_sections": [],
   "name": "Session_02.ipynb",
   "provenance": []
  },
  "kernelspec": {
   "display_name": "Python 3",
   "language": "python",
   "name": "python3"
  },
  "language_info": {
   "codemirror_mode": {
    "name": "ipython",
    "version": 3
   },
   "file_extension": ".py",
   "mimetype": "text/x-python",
   "name": "python",
   "nbconvert_exporter": "python",
   "pygments_lexer": "ipython3",
   "version": "3.8.8"
  }
 },
 "nbformat": 4,
 "nbformat_minor": 1
}
